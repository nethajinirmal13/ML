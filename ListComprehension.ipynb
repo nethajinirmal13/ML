{
  "cells": [
    {
      "cell_type": "markdown",
      "metadata": {
        "id": "view-in-github",
        "colab_type": "text"
      },
      "source": [
        "<a href=\"https://colab.research.google.com/github/nethajinirmal13/ML/blob/master/ListComprehension.ipynb\" target=\"_parent\"><img src=\"https://colab.research.google.com/assets/colab-badge.svg\" alt=\"Open In Colab\"/></a>"
      ]
    },
    {
      "cell_type": "markdown",
      "metadata": {
        "id": "qeGpwrdfte1u"
      },
      "source": [
        "# 1. Introduction\n",
        "List comprehensions is a pythonic way of expressing a ‘for-loop’ that appends to a list in a single line of code.\n",
        "\n",
        "So how does a list comprehension look? Let’s write one to create a list of even numbers between 0 and 9:"
      ]
    },
    {
      "cell_type": "code",
      "source": [
        "[x for x in range(10,15)]"
      ],
      "metadata": {
        "colab": {
          "base_uri": "https://localhost:8080/"
        },
        "id": "c4bH2r8wChA-",
        "outputId": "8c8e2b90-214b-437b-d8b3-27698e6f36d6"
      },
      "execution_count": 1,
      "outputs": [
        {
          "output_type": "execute_result",
          "data": {
            "text/plain": [
              "[10, 11, 12, 13, 14]"
            ]
          },
          "metadata": {},
          "execution_count": 1
        }
      ]
    },
    {
      "cell_type": "code",
      "execution_count": null,
      "metadata": {
        "colab": {
          "base_uri": "https://localhost:8080/"
        },
        "id": "n_8Nt6JHte15",
        "outputId": "584bf8ea-1167-45be-fb2b-4b95b4881826"
      },
      "outputs": [
        {
          "output_type": "execute_result",
          "data": {
            "text/plain": [
              "[0, 2, 4, 6, 8]"
            ]
          },
          "metadata": {},
          "execution_count": 2
        }
      ],
      "source": [
        "[i for i in range(10) if i%2 == 0]"
      ]
    },
    {
      "cell_type": "markdown",
      "metadata": {
        "id": "tSVfe1y2te17"
      },
      "source": [
        "And below is the for-loop equivalent for the same logic:"
      ]
    },
    {
      "cell_type": "code",
      "execution_count": null,
      "metadata": {
        "colab": {
          "base_uri": "https://localhost:8080/"
        },
        "id": "nwLthiB7te17",
        "outputId": "071ca3cf-368e-4f08-babc-87253fdd8539"
      },
      "outputs": [
        {
          "output_type": "execute_result",
          "data": {
            "text/plain": [
              "[0, 2, 4, 6, 8]"
            ]
          },
          "metadata": {},
          "execution_count": 2
        }
      ],
      "source": [
        "result = []\n",
        "for i in range(10):\n",
        "    if i%2 == 0:\n",
        "        result.append(i)\n",
        "result"
      ]
    },
    {
      "cell_type": "markdown",
      "metadata": {
        "id": "erlrYh-7te18"
      },
      "source": [
        "I prefer list comprehensions because it’s easier to read, requires lesser keystrokes and it usually runs faster as well.\n",
        "\n",
        "The best way to learn list comprehensions is by studying examples of converting for-loops and practicing sample problems."
      ]
    },
    {
      "cell_type": "markdown",
      "metadata": {
        "id": "qTaCg2kXte18"
      },
      "source": [
        "# 2. Typical format of List Comprehensions\n",
        "A list comprehension typically has 3 components:\n",
        "\n",
        "- The output (which can be string, number, list or any object you want to put in the list.)\n",
        "- For Statements\n",
        "- Conditional filtering (optional).\n",
        "\n",
        "\n",
        "Below is a typical format of a list comprehension.\n",
        "\n",
        "\n",
        "$[[outpt \\space value] \\space for \\space (i \\space in \\space iterable) \\space if \\space (filter \\space conditions)]$\n",
        "\n",
        "However, this format is not a golden rule.\n",
        "\n",
        "Because there can be logics that can have multiple ‘for-statements’ and ‘if conditions’ and they can change positions as well. The only thing that does not change however is the position of the output value, which always comes at the beginning.\n",
        "\n",
        "Next, Let’s see examples of 7 different types of problems where you can use list comprehensions instead of for-loops."
      ]
    },
    {
      "cell_type": "markdown",
      "metadata": {
        "id": "yzavSXe5te19"
      },
      "source": [
        "## Example Type 1: Simple for-loop\n",
        "\n",
        "**Problem Statement**: Square each number in mylist and store the result as a list.\n",
        "\n",
        "The ‘For Loop’ iterates over each number, squares the number and appends to a list."
      ]
    },
    {
      "cell_type": "code",
      "execution_count": 3,
      "metadata": {
        "colab": {
          "base_uri": "https://localhost:8080/"
        },
        "id": "PTN0xvRfte1-",
        "outputId": "64980ee7-584c-408f-b426-8d7f77c7bc7d"
      },
      "outputs": [
        {
          "output_type": "execute_result",
          "data": {
            "text/plain": [
              "[1, 4, 9, 16, 25]"
            ]
          },
          "metadata": {},
          "execution_count": 3
        }
      ],
      "source": [
        "# For Loop Version\n",
        "mylist = [1,2,3,4,5]\n",
        "result = []\n",
        "\n",
        "for i in mylist:\n",
        "    result.append(i**2)\n",
        "\n",
        "result"
      ]
    },
    {
      "cell_type": "code",
      "source": [
        "[i*2 for i in mylist]"
      ],
      "metadata": {
        "colab": {
          "base_uri": "https://localhost:8080/"
        },
        "id": "1jlulCLLdOxR",
        "outputId": "3166c8ab-03a8-4737-fd4f-fedbdc1d47c6"
      },
      "execution_count": 4,
      "outputs": [
        {
          "output_type": "execute_result",
          "data": {
            "text/plain": [
              "[2, 4, 6, 8, 10]"
            ]
          },
          "metadata": {},
          "execution_count": 4
        }
      ]
    },
    {
      "cell_type": "markdown",
      "metadata": {
        "id": "bR8p569ste1_"
      },
      "source": [
        "How to convert this to a list comprehension? Take the output in the same line as the for condition and enclose the whole thing in a pair of [ .. ]."
      ]
    },
    {
      "cell_type": "code",
      "source": [],
      "metadata": {
        "id": "23fSm7b9dN_j"
      },
      "execution_count": null,
      "outputs": []
    },
    {
      "cell_type": "code",
      "source": [
        "def guvi():\n",
        "  i=0\n",
        "  while i<10:\n",
        "    yield i\n",
        "    i=i+1\n",
        "print(list(guvi()))\n",
        "[x for x in guvi()]"
      ],
      "metadata": {
        "colab": {
          "base_uri": "https://localhost:8080/"
        },
        "id": "dye5kkEexDT5",
        "outputId": "148839b4-03ce-4a88-c4bf-1e17fc035e0f"
      },
      "execution_count": null,
      "outputs": [
        {
          "output_type": "stream",
          "name": "stdout",
          "text": [
            "[0, 1, 2, 3, 4, 5, 6, 7, 8, 9]\n"
          ]
        },
        {
          "output_type": "execute_result",
          "data": {
            "text/plain": [
              "[0, 1, 2, 3, 4, 5, 6, 7, 8, 9]"
            ]
          },
          "metadata": {},
          "execution_count": 12
        }
      ]
    },
    {
      "cell_type": "code",
      "execution_count": null,
      "metadata": {
        "colab": {
          "base_uri": "https://localhost:8080/"
        },
        "id": "-4PqkJpFte1_",
        "outputId": "5d3b0e36-dec0-402d-d213-71256df4a242"
      },
      "outputs": [
        {
          "output_type": "execute_result",
          "data": {
            "text/plain": [
              "[1, 4, 9, 16, 25]"
            ]
          },
          "metadata": {},
          "execution_count": 5
        }
      ],
      "source": [
        "# List Comprehension Version\n",
        "[i**2 for i in [1,2,3,4,5]]"
      ]
    },
    {
      "cell_type": "markdown",
      "metadata": {
        "id": "QFF1fg3Xte2A"
      },
      "source": [
        "## Example Type 2: for-loop with conditional filtering\n",
        "\n",
        "What if you have an if condition in the for loop? Say, you want to square only the even numbers:\n",
        "\n",
        "**Problem statement**: Square only the even numbers in mylist and store the result in a list."
      ]
    },
    {
      "cell_type": "code",
      "execution_count": null,
      "metadata": {
        "id": "P8hgpp6Pte2A",
        "outputId": "3db325d8-b673-404b-d2e2-eb11952d644c"
      },
      "outputs": [
        {
          "data": {
            "text/plain": [
              "[4, 16]"
            ]
          },
          "execution_count": 5,
          "metadata": {},
          "output_type": "execute_result"
        }
      ],
      "source": [
        "# For Loop Version\n",
        "mylist = [1,2,3,4,5]\n",
        "result = []\n",
        "\n",
        "for i in mylist:\n",
        "    if i%2==0:\n",
        "        result.append(i**2)\n",
        "\n",
        "result"
      ]
    },
    {
      "cell_type": "markdown",
      "metadata": {
        "id": "2ezYrHA1te2A"
      },
      "source": [
        "In list comprehension, we add the ‘if condition’ after the for-loop if you want to filter the items."
      ]
    },
    {
      "cell_type": "code",
      "execution_count": null,
      "metadata": {
        "id": "jPZ5mIRete2B",
        "outputId": "01f5dffc-b366-4634-eb55-0225d273265e"
      },
      "outputs": [
        {
          "data": {
            "text/plain": [
              "[4, 16]"
            ]
          },
          "execution_count": 6,
          "metadata": {},
          "output_type": "execute_result"
        }
      ],
      "source": [
        "# List Comprehension Version\n",
        "[i**2 for i in [1,2,3,4,5] if i%2==0]"
      ]
    },
    {
      "cell_type": "markdown",
      "metadata": {
        "id": "9QK2T0PSte2B"
      },
      "source": [
        "# Example Type 3: for-loop with ‘if’ and ‘else’ condition\n",
        "\n",
        "Let’s see a case where you have an ‘if-else’ condition in the for-loop.\n",
        "\n",
        "\n",
        "**Problem Statement**: In mylist, square the number if its even, else, cube it."
      ]
    },
    {
      "cell_type": "code",
      "execution_count": null,
      "metadata": {
        "colab": {
          "base_uri": "https://localhost:8080/"
        },
        "id": "bu7XqmcPte2B",
        "outputId": "1025022c-d4eb-4cee-be99-7ad46fe120b9"
      },
      "outputs": [
        {
          "output_type": "execute_result",
          "data": {
            "text/plain": [
              "[1, 4, 27, 16, 125]"
            ]
          },
          "metadata": {},
          "execution_count": 13
        }
      ],
      "source": [
        "# For Loop Version\n",
        "mylist = [1,2,3,4,5]\n",
        "result = []\n",
        "\n",
        "for i in mylist:\n",
        "    if i%2==0:\n",
        "        result.append(i**2)\n",
        "    else:\n",
        "        result.append(i**3)\n",
        "\n",
        "result"
      ]
    },
    {
      "cell_type": "markdown",
      "metadata": {
        "id": "k_CTBZjlte2C"
      },
      "source": [
        "In previous example, we wanted to filter the even numbers. But in this case, there is no filtering. So put the if and else before the for-loop itself."
      ]
    },
    {
      "cell_type": "code",
      "execution_count": null,
      "metadata": {
        "colab": {
          "base_uri": "https://localhost:8080/"
        },
        "id": "ptBbqeOcte2C",
        "outputId": "2e554971-dfc8-4f4d-f079-816841fe79f6"
      },
      "outputs": [
        {
          "output_type": "execute_result",
          "data": {
            "text/plain": [
              "[1, 4, 27, 16, 125]"
            ]
          },
          "metadata": {},
          "execution_count": 4
        }
      ],
      "source": [
        "# List Comprehension Version\n",
        "[i**2 if i%2==0 else i**3 for i in [1,2,3,4,5]]"
      ]
    },
    {
      "cell_type": "markdown",
      "metadata": {
        "id": "7Ky46gNkte2C"
      },
      "source": [
        "## Example Type 4: Multiple for-loops\n",
        "\n",
        "Now let’s see a slightly complicated example that involves two For-Loops.\n",
        "\n",
        "**Problem Statement**: Flatten the matrix mat (a list of lists) keeping only the even numbers."
      ]
    },
    {
      "cell_type": "code",
      "execution_count": null,
      "metadata": {
        "colab": {
          "base_uri": "https://localhost:8080/"
        },
        "id": "gpVK61Vxte2C",
        "outputId": "b1063405-99cd-4639-8b25-b0ce915e2b48"
      },
      "outputs": [
        {
          "output_type": "execute_result",
          "data": {
            "text/plain": [
              "['1', 2, '3', 4, '5', 6, '7', 8, '9', 10, '11', 12, '13', 14, '15', 16]"
            ]
          },
          "metadata": {},
          "execution_count": 1
        }
      ],
      "source": [
        "# For Loop Version\n",
        "mat = [[1,2,3,4], [5,6,7,8], [9,10,11,12], [13,14,15,16]]\n",
        "result = []\n",
        "for row in mat:\n",
        "    for i in row:\n",
        "        if i%2 == 0:\n",
        "            result.append(i)\n",
        "        else:\n",
        "            result.append(str(i))\n",
        "\n",
        "result"
      ]
    },
    {
      "cell_type": "markdown",
      "metadata": {
        "id": "6Fk2_CXRte2D"
      },
      "source": [
        "Can you imagine what the equivalent list comprehension version would look like? It’s nearly the same as writing the lines of the for-loop one after the other."
      ]
    },
    {
      "cell_type": "code",
      "source": [
        "#Q1\n",
        "a=[1,-2,-3,2,4,-8,12,-0,1]\n",
        "#print only negatice intergers into a list"
      ],
      "metadata": {
        "id": "V8CiXs3pFWqE"
      },
      "execution_count": null,
      "outputs": []
    },
    {
      "cell_type": "code",
      "execution_count": null,
      "metadata": {
        "id": "HQwOMSGHte2D",
        "outputId": "9c95a2ee-3cfe-4359-b1a5-fa83b9ac2df6",
        "colab": {
          "base_uri": "https://localhost:8080/"
        }
      },
      "outputs": [
        {
          "output_type": "execute_result",
          "data": {
            "text/plain": [
              "[2, 4, 6, 8, 10, 12, 14, 16]"
            ]
          },
          "metadata": {},
          "execution_count": 2
        }
      ],
      "source": [
        "mat = [[1,2,3,4], [5,6,7,8], [9,10,11,12], [13,14,15,16]]\n",
        "\n",
        "# List Comprehension version\n",
        "[i for row in mat for i in row if i%2==0]"
      ]
    },
    {
      "cell_type": "code",
      "source": [
        "[i if i%2==0 else str(i) for row in mat for i in row ]"
      ],
      "metadata": {
        "colab": {
          "base_uri": "https://localhost:8080/"
        },
        "id": "Xb5bGUp12CXn",
        "outputId": "68390024-1ae7-431d-a2f6-ae5c509b7222"
      },
      "execution_count": null,
      "outputs": [
        {
          "output_type": "execute_result",
          "data": {
            "text/plain": [
              "['1', 2, '3', 4, '5', 6, '7', 8, '9', 10, '11', 12, '13', 14, '15', 16]"
            ]
          },
          "metadata": {},
          "execution_count": 18
        }
      ]
    },
    {
      "cell_type": "markdown",
      "metadata": {
        "id": "_ZwH-A1Qte2D"
      },
      "source": [
        "# Example Type 5: Paired outputs\n",
        "\n",
        "**Problem Statement**: For each number in list_b, get the number and its position in mylist as a list of tuples."
      ]
    },
    {
      "cell_type": "code",
      "execution_count": null,
      "metadata": {
        "colab": {
          "base_uri": "https://localhost:8080/"
        },
        "id": "OQKVUsq4te2D",
        "outputId": "ad6cc8e2-1eea-48eb-b5d0-576f4324fbea"
      },
      "outputs": [
        {
          "output_type": "execute_result",
          "data": {
            "text/plain": [
              "[(6, 2), (4, 8), (6, 2), (1, 3), (2, 7), (2, 7)]"
            ]
          },
          "metadata": {},
          "execution_count": 19
        }
      ],
      "source": [
        "# For Loop Version\n",
        "mylist = [9, 3, 6, 1, 5, 0, 8, 2, 4, 7]\n",
        "list_b = [6, 4, 6, 1, 2, 2]\n",
        "\n",
        "result = []\n",
        "for i in list_b:\n",
        "    result.append((i, mylist.index(i)))\n",
        "\n",
        "result"
      ]
    },
    {
      "cell_type": "markdown",
      "metadata": {
        "id": "FK1t4Ylete2D"
      },
      "source": [
        "In this case, the output has 2 items instead of one. So pair both of them as a tuple and place it before the for statement."
      ]
    },
    {
      "cell_type": "code",
      "execution_count": null,
      "metadata": {
        "colab": {
          "base_uri": "https://localhost:8080/"
        },
        "id": "uPaODsplte2E",
        "outputId": "904568ff-a17c-4d85-94e6-f56296c4b5d3"
      },
      "outputs": [
        {
          "output_type": "execute_result",
          "data": {
            "text/plain": [
              "[(6, 2), (4, 8), (6, 2), (1, 3), (2, 7), (2, 7)]"
            ]
          },
          "metadata": {},
          "execution_count": 20
        }
      ],
      "source": [
        "# List Comprehension version\n",
        "[(i, mylist.index(i)) for i in list_b]"
      ]
    },
    {
      "cell_type": "code",
      "source": [
        "l1=[200,300,400,500]\n",
        "l2=[-200,-300,-400,-500]\n",
        "l3=[1,2,3,4]\n",
        "#[i+l2[l1.index(i)] for i in l1]\n",
        "[x+y for x,y in zip(l1,l2)]"
      ],
      "metadata": {
        "colab": {
          "base_uri": "https://localhost:8080/"
        },
        "id": "Bu-ZkN6l3eqm",
        "outputId": "53ddb4ee-1f64-4339-bb52-89904035548a"
      },
      "execution_count": null,
      "outputs": [
        {
          "output_type": "execute_result",
          "data": {
            "text/plain": [
              "[0, 0, 0, 0]"
            ]
          },
          "metadata": {},
          "execution_count": 14
        }
      ]
    },
    {
      "cell_type": "code",
      "source": [
        "a=zip(l1,l2,l3)\n",
        "for x,y,z in a:\n",
        "  print(x-y)"
      ],
      "metadata": {
        "colab": {
          "base_uri": "https://localhost:8080/"
        },
        "id": "zctA-cgAR2Ve",
        "outputId": "eca13c4f-be96-4b7a-e720-cf212474976b"
      },
      "execution_count": null,
      "outputs": [
        {
          "output_type": "stream",
          "name": "stdout",
          "text": [
            "400\n",
            "600\n",
            "800\n",
            "1000\n"
          ]
        }
      ]
    },
    {
      "cell_type": "code",
      "source": [
        "r=[]\n",
        "for i in l1:\n",
        "  r.append( i+l2[l1.index(i)])\n",
        "r"
      ],
      "metadata": {
        "colab": {
          "base_uri": "https://localhost:8080/"
        },
        "id": "srw8w-EH5kdh",
        "outputId": "5bdfdf8f-f42b-4e58-a7af-f6ec75aafedc"
      },
      "execution_count": null,
      "outputs": [
        {
          "output_type": "execute_result",
          "data": {
            "text/plain": [
              "[0, 0, 0, 0]"
            ]
          },
          "metadata": {},
          "execution_count": 26
        }
      ]
    },
    {
      "cell_type": "code",
      "source": [
        "a=[1,2,3]\n",
        "b=[4,5,6]\n",
        "c=[7,8,9]\n",
        "x=[]\n",
        "[x for x in [a,b,c]]"
      ],
      "metadata": {
        "colab": {
          "base_uri": "https://localhost:8080/"
        },
        "id": "DGz10d9U8P08",
        "outputId": "60ba4c50-d7da-4ef1-cdc5-b0e9ede3c867"
      },
      "execution_count": null,
      "outputs": [
        {
          "output_type": "execute_result",
          "data": {
            "text/plain": [
              "[[1, 2, 3], [4, 5, 6], [7, 8, 9]]"
            ]
          },
          "metadata": {},
          "execution_count": 17
        }
      ]
    },
    {
      "cell_type": "code",
      "source": [
        "j=[[],[],[]]\n",
        "[[x[i] for x in j]for i in range(3)]"
      ],
      "metadata": {
        "id": "1_xVLQfz8SfA",
        "colab": {
          "base_uri": "https://localhost:8080/",
          "height": 277
        },
        "outputId": "7d3ada1b-7642-4484-d9ad-9e9501d958f8"
      },
      "execution_count": null,
      "outputs": [
        {
          "output_type": "error",
          "ename": "IndexError",
          "evalue": "ignored",
          "traceback": [
            "\u001b[0;31m---------------------------------------------------------------------------\u001b[0m",
            "\u001b[0;31mIndexError\u001b[0m                                Traceback (most recent call last)",
            "\u001b[0;32m<ipython-input-18-3ad548c1d3cd>\u001b[0m in \u001b[0;36m<module>\u001b[0;34m\u001b[0m\n\u001b[1;32m      1\u001b[0m \u001b[0mj\u001b[0m\u001b[0;34m=\u001b[0m\u001b[0;34m[\u001b[0m\u001b[0;34m[\u001b[0m\u001b[0;34m]\u001b[0m\u001b[0;34m,\u001b[0m\u001b[0;34m[\u001b[0m\u001b[0;34m]\u001b[0m\u001b[0;34m,\u001b[0m\u001b[0;34m[\u001b[0m\u001b[0;34m]\u001b[0m\u001b[0;34m]\u001b[0m\u001b[0;34m\u001b[0m\u001b[0;34m\u001b[0m\u001b[0m\n\u001b[0;32m----> 2\u001b[0;31m \u001b[0;34m[\u001b[0m\u001b[0;34m[\u001b[0m\u001b[0mx\u001b[0m\u001b[0;34m[\u001b[0m\u001b[0mi\u001b[0m\u001b[0;34m]\u001b[0m \u001b[0;32mfor\u001b[0m \u001b[0mx\u001b[0m \u001b[0;32min\u001b[0m \u001b[0mj\u001b[0m\u001b[0;34m]\u001b[0m\u001b[0;32mfor\u001b[0m \u001b[0mi\u001b[0m \u001b[0;32min\u001b[0m \u001b[0mrange\u001b[0m\u001b[0;34m(\u001b[0m\u001b[0;36m3\u001b[0m\u001b[0;34m)\u001b[0m\u001b[0;34m]\u001b[0m\u001b[0;34m\u001b[0m\u001b[0;34m\u001b[0m\u001b[0m\n\u001b[0m",
            "\u001b[0;32m<ipython-input-18-3ad548c1d3cd>\u001b[0m in \u001b[0;36m<listcomp>\u001b[0;34m(.0)\u001b[0m\n\u001b[1;32m      1\u001b[0m \u001b[0mj\u001b[0m\u001b[0;34m=\u001b[0m\u001b[0;34m[\u001b[0m\u001b[0;34m[\u001b[0m\u001b[0;34m]\u001b[0m\u001b[0;34m,\u001b[0m\u001b[0;34m[\u001b[0m\u001b[0;34m]\u001b[0m\u001b[0;34m,\u001b[0m\u001b[0;34m[\u001b[0m\u001b[0;34m]\u001b[0m\u001b[0;34m]\u001b[0m\u001b[0;34m\u001b[0m\u001b[0;34m\u001b[0m\u001b[0m\n\u001b[0;32m----> 2\u001b[0;31m \u001b[0;34m[\u001b[0m\u001b[0;34m[\u001b[0m\u001b[0mx\u001b[0m\u001b[0;34m[\u001b[0m\u001b[0mi\u001b[0m\u001b[0;34m]\u001b[0m \u001b[0;32mfor\u001b[0m \u001b[0mx\u001b[0m \u001b[0;32min\u001b[0m \u001b[0mj\u001b[0m\u001b[0;34m]\u001b[0m\u001b[0;32mfor\u001b[0m \u001b[0mi\u001b[0m \u001b[0;32min\u001b[0m \u001b[0mrange\u001b[0m\u001b[0;34m(\u001b[0m\u001b[0;36m3\u001b[0m\u001b[0;34m)\u001b[0m\u001b[0;34m]\u001b[0m\u001b[0;34m\u001b[0m\u001b[0;34m\u001b[0m\u001b[0m\n\u001b[0m",
            "\u001b[0;32m<ipython-input-18-3ad548c1d3cd>\u001b[0m in \u001b[0;36m<listcomp>\u001b[0;34m(.0)\u001b[0m\n\u001b[1;32m      1\u001b[0m \u001b[0mj\u001b[0m\u001b[0;34m=\u001b[0m\u001b[0;34m[\u001b[0m\u001b[0;34m[\u001b[0m\u001b[0;34m]\u001b[0m\u001b[0;34m,\u001b[0m\u001b[0;34m[\u001b[0m\u001b[0;34m]\u001b[0m\u001b[0;34m,\u001b[0m\u001b[0;34m[\u001b[0m\u001b[0;34m]\u001b[0m\u001b[0;34m]\u001b[0m\u001b[0;34m\u001b[0m\u001b[0;34m\u001b[0m\u001b[0m\n\u001b[0;32m----> 2\u001b[0;31m \u001b[0;34m[\u001b[0m\u001b[0;34m[\u001b[0m\u001b[0mx\u001b[0m\u001b[0;34m[\u001b[0m\u001b[0mi\u001b[0m\u001b[0;34m]\u001b[0m \u001b[0;32mfor\u001b[0m \u001b[0mx\u001b[0m \u001b[0;32min\u001b[0m \u001b[0mj\u001b[0m\u001b[0;34m]\u001b[0m\u001b[0;32mfor\u001b[0m \u001b[0mi\u001b[0m \u001b[0;32min\u001b[0m \u001b[0mrange\u001b[0m\u001b[0;34m(\u001b[0m\u001b[0;36m3\u001b[0m\u001b[0;34m)\u001b[0m\u001b[0;34m]\u001b[0m\u001b[0;34m\u001b[0m\u001b[0;34m\u001b[0m\u001b[0m\n\u001b[0m",
            "\u001b[0;31mIndexError\u001b[0m: list index out of range"
          ]
        }
      ]
    },
    {
      "cell_type": "code",
      "source": [
        "j=[]\n",
        "y=[]\n",
        "[j[i] for x in range(3) for i in range(3)]"
      ],
      "metadata": {
        "id": "MlFykucv83NY"
      },
      "execution_count": null,
      "outputs": []
    },
    {
      "cell_type": "markdown",
      "metadata": {
        "id": "5CGDJ9zZte2E"
      },
      "source": [
        "# Example Type 6: Dictionary Comprehensions\n",
        "\n",
        "Same problem as previous example but output is a dictionary instead of a list of tuples.\n",
        "\n",
        "**Problem Statement**: For each number in list_b, get the number and its position in mylist as a dict."
      ]
    },
    {
      "cell_type": "code",
      "execution_count": null,
      "metadata": {
        "id": "MA58XSy7te2F",
        "outputId": "ab7f0ddf-ec66-4921-e0f8-cf578cfab1a9",
        "colab": {
          "base_uri": "https://localhost:8080/"
        }
      },
      "outputs": [
        {
          "output_type": "execute_result",
          "data": {
            "text/plain": [
              "{6: 2, 4: 8, 1: 3, 2: 7}"
            ]
          },
          "metadata": {},
          "execution_count": 20
        }
      ],
      "source": [
        "# For Loop Version\n",
        "mylist = [9, 3, 6, 1, 5, 0, 8, 2, 4, 7]\n",
        "list_b = [6, 4, 6, 1, 2, 2]\n",
        "\n",
        "result = {}\n",
        "for i in list_b:\n",
        "    result[i]=mylist.index(i)\n",
        "\n",
        "result"
      ]
    },
    {
      "cell_type": "markdown",
      "metadata": {
        "id": "Rk_k-AJnte2F"
      },
      "source": [
        "To make a dictionary output, you just need to replace the square brackets with curly brackets. And use a : instead of a comma between the pairs."
      ]
    },
    {
      "cell_type": "code",
      "execution_count": null,
      "metadata": {
        "id": "_qIfGSPlte2F",
        "outputId": "93054bde-2cfe-4234-ad63-c17e3c517e25",
        "colab": {
          "base_uri": "https://localhost:8080/"
        }
      },
      "outputs": [
        {
          "output_type": "execute_result",
          "data": {
            "text/plain": [
              "{6: 2, 4: 8, 1: 3, 2: 7}"
            ]
          },
          "metadata": {},
          "execution_count": 21
        }
      ],
      "source": [
        "mylist = [9, 3, 6, 1, 5, 0, 8, 2, 4, 7]\n",
        "list_b = [6, 4, 6, 1, 2, 2]\n",
        "# List Comprehension version\n",
        "{i: mylist.index(i) for i in list_b}\n"
      ]
    },
    {
      "cell_type": "markdown",
      "metadata": {
        "id": "4bMUEqf8te2F"
      },
      "source": [
        "## Example Type 7: Tokenizing sentences into list of words\n",
        "\n",
        "This is a slightly different way of applying list comprehension.\n",
        "\n",
        "**Problem Statement**: The goal is to tokenize the following 5 sentences into words, excluding the stop words."
      ]
    },
    {
      "cell_type": "code",
      "execution_count": null,
      "metadata": {
        "id": "sMOkzez7te2F"
      },
      "outputs": [],
      "source": [
        "# Input:\n",
        "sentences = [\"a new world record was set\", \n",
        "             \"in the holy city of ayodhya\", \n",
        "             \"on the eve of diwali on tuesday\", \n",
        "             \"with over three lakh diya or earthen lamps\", \n",
        "             \"lit up simultaneously on the banks of the sarayu river\"]\n",
        "\n",
        "stopwords = ['for', 'a', 'of', 'the', 'and', 'to', 'in', 'on', 'with']"
      ]
    },
    {
      "cell_type": "code",
      "execution_count": null,
      "metadata": {
        "colab": {
          "base_uri": "https://localhost:8080/"
        },
        "id": "7QX02zRFte2F",
        "outputId": "1aa4b8bc-78df-4153-8239-a8c037a1bc1f"
      },
      "outputs": [
        {
          "output_type": "execute_result",
          "data": {
            "text/plain": [
              "[['new', 'world', 'record', 'was', 'set'],\n",
              " ['holy', 'city', 'ayodhya'],\n",
              " ['eve', 'diwali', 'tuesday'],\n",
              " ['over', 'three', 'lakh', 'diya', 'or', 'earthen', 'lamps'],\n",
              " ['lit', 'up', 'simultaneously', 'banks', 'sarayu', 'river']]"
            ]
          },
          "metadata": {},
          "execution_count": 33
        }
      ],
      "source": [
        "# For Loop Version\n",
        "results = []    \n",
        "for x in sentences:\n",
        "    sentence_tokens = []\n",
        "    for y in x.split(' '):\n",
        "        if y not in stopwords:\n",
        "            sentence_tokens.append(y)\n",
        "    results.append(sentence_tokens)\n",
        "\n",
        "results"
      ]
    },
    {
      "cell_type": "markdown",
      "metadata": {
        "id": "CRr9tUYmte2G"
      },
      "source": [
        "If you wanted to flatten out the words in the sentences, then the solution would have been something like this:"
      ]
    },
    {
      "cell_type": "code",
      "execution_count": null,
      "metadata": {
        "colab": {
          "base_uri": "https://localhost:8080/"
        },
        "id": "estBuzmQte2G",
        "outputId": "4ddd6488-cd9d-47dc-b9f2-8b60b8663c05"
      },
      "outputs": [
        {
          "output_type": "stream",
          "name": "stdout",
          "text": [
            "['new', 'world', 'record', 'was', 'set', 'holy', 'city', 'ayodhya', 'eve', 'diwali', 'tuesday', 'over', 'three', 'lakh', 'diya', 'or', 'earthen', 'lamps', 'lit', 'up', 'simultaneously', 'banks', 'sarayu', 'river']\n"
          ]
        }
      ],
      "source": [
        "print([y for x in sentences for y in x.split(' ') if y not in stopwords])"
      ]
    },
    {
      "cell_type": "markdown",
      "metadata": {
        "id": "Pm3HRQAIte2G"
      },
      "source": [
        "But we want to distinguish which words belong to which sentence, that is the original grouping of sentences should remain intact as a list.\n",
        "\n",
        "To achieve this, the entire second unit of for-loop, that is, the [word for word in sentence.split(' ') if word not in stopwords] part should be considered as an output and therefore will go at the beginning of the list comprehension."
      ]
    },
    {
      "cell_type": "code",
      "execution_count": null,
      "metadata": {
        "id": "WhWRWXKfte2G",
        "outputId": "ef37bee5-cb58-463e-97b8-fadd40e6f99c"
      },
      "outputs": [
        {
          "data": {
            "text/plain": [
              "[['new', 'world', 'record', 'was', 'set'],\n",
              " ['holy', 'city', 'ayodhya'],\n",
              " ['eve', 'diwali', 'tuesday'],\n",
              " ['over', 'three', 'lakh', 'diya', 'or', 'earthen', 'lamps'],\n",
              " ['lit', 'up', 'simultaneously', 'banks', 'sarayu', 'river']]"
            ]
          },
          "execution_count": 18,
          "metadata": {},
          "output_type": "execute_result"
        }
      ],
      "source": [
        "# List Comprehension Version\n",
        "[[word for word in sentence.split() if word not in stopwords] for sentence in sentences]"
      ]
    },
    {
      "cell_type": "markdown",
      "metadata": {
        "id": "ZxGoyJJAte2G"
      },
      "source": [
        "# 3. Practice Exercises (increasing level of difficulty)\n",
        "\n",
        "## Question 1. Given a 1D list, negate all elements which are between 3 and 8, using list comprehensions\n",
        "\n"
      ]
    },
    {
      "cell_type": "code",
      "execution_count": null,
      "metadata": {
        "id": "zkRVFf4pte2G"
      },
      "outputs": [],
      "source": [
        "# Input\n",
        "mylist = [1, 2, 3, 4, 5, 6, 7, 8, 9, 10]\n",
        "\n",
        "# Desired Output\n",
        "# [1, 2, -3, -4, -5, -6, -7, -8, 9, 10]"
      ]
    },
    {
      "cell_type": "code",
      "execution_count": null,
      "metadata": {
        "id": "tMLakmuRte2G",
        "outputId": "2e1532ec-c38b-4715-eee3-0364567cc358"
      },
      "outputs": [
        {
          "data": {
            "text/plain": [
              "[1, 2, -3, -4, -5, -6, -7, -8, 9, 10]"
            ]
          },
          "execution_count": 20,
          "metadata": {},
          "output_type": "execute_result"
        }
      ],
      "source": [
        "[-i if  2 < i < 9 else i for i in mylist]"
      ]
    },
    {
      "cell_type": "markdown",
      "metadata": {
        "id": "uCSehf1ete2G"
      },
      "source": [
        "## Question 2: Make a dictionary of the 26 english alphabets mapping each with the corresponding integer."
      ]
    },
    {
      "cell_type": "code",
      "execution_count": null,
      "metadata": {
        "id": "XJcDhJhIte2G"
      },
      "outputs": [],
      "source": [
        "# Desired output\n",
        "# {'a': 1, 'b': 2, 'c': 3, 'd': 4, 'e': 5, 'f': 6,\n",
        "#  'g': 7, 'h': 8, 'i': 9, 'j': 10, 'k': 11, 'l': 12,\n",
        "#  'm': 13, 'n': 14, 'o': 15, 'p': 16, 'q': 17, 'r': 18,\n",
        "#  's': 19, 't': 20, 'u': 21, 'v': 22, 'w': 23, 'x': 24,\n",
        "#  'y': 25, 'z': 26}"
      ]
    },
    {
      "cell_type": "code",
      "execution_count": null,
      "metadata": {
        "id": "xS_XLx9_te2H",
        "outputId": "a1960bf9-1380-4eea-8ee2-6b1d0ab98ddf"
      },
      "outputs": [
        {
          "name": "stdout",
          "output_type": "stream",
          "text": [
            "{'a': 1, 'b': 2, 'c': 3, 'd': 4, 'e': 5, 'f': 6, 'g': 7, 'h': 8, 'i': 9, 'j': 10, 'k': 11, 'l': 12, 'm': 13, 'n': 14, 'o': 15, 'p': 16, 'q': 17, 'r': 18, 's': 19, 't': 20, 'u': 21, 'v': 22, 'w': 23, 'x': 24, 'y': 25, 'z': 26}\n"
          ]
        }
      ],
      "source": [
        "print({chr(i+97):i+1 for i in range(26)})"
      ]
    },
    {
      "cell_type": "code",
      "execution_count": null,
      "metadata": {
        "id": "o1sCoiN5te2H",
        "outputId": "0897c040-bf88-4323-e59c-01acf7febc83"
      },
      "outputs": [
        {
          "name": "stdout",
          "output_type": "stream",
          "text": [
            "{'a': 1, 'b': 2, 'c': 3, 'd': 4, 'e': 5, 'f': 6, 'g': 7, 'h': 8, 'i': 9, 'j': 10, 'k': 11, 'l': 12, 'm': 13, 'n': 14, 'o': 15, 'p': 16, 'q': 17, 'r': 18, 's': 19, 't': 20, 'u': 21, 'v': 22, 'w': 23, 'x': 24, 'y': 25, 'z': 26}\n"
          ]
        }
      ],
      "source": [
        "import string\n",
        "print({string.ascii_lowercase[i]:i+1 for i in range(26)})"
      ]
    },
    {
      "cell_type": "code",
      "execution_count": null,
      "metadata": {
        "id": "s2CyVrybte2H",
        "outputId": "97d953b9-54f7-4a5e-db17-9a763a502fb2"
      },
      "outputs": [
        {
          "name": "stdout",
          "output_type": "stream",
          "text": [
            "{'a': 1, 'b': 2, 'c': 3, 'd': 4, 'e': 5, 'f': 6, 'g': 7, 'h': 8, 'i': 9, 'j': 10, 'k': 11, 'l': 12, 'm': 13, 'n': 14, 'o': 15, 'p': 16, 'q': 17, 'r': 18, 's': 19, 't': 20, 'u': 21, 'v': 22, 'w': 23, 'x': 24, 'y': 25, 'z': 26}\n"
          ]
        }
      ],
      "source": [
        "import string\n",
        "print({a:i+1 for a,i in zip(string.ascii_lowercase, range(26))})"
      ]
    },
    {
      "cell_type": "markdown",
      "metadata": {
        "id": "-UwWP2jUte2H"
      },
      "source": [
        "## Question 3: Replace all alphabets in the string ‘Lee Quan Yew’, by substituting the alphabet with the corresponding numbers, like 1 for ‘a’, 2 for ‘b’ and so on."
      ]
    },
    {
      "cell_type": "code",
      "execution_count": null,
      "metadata": {
        "id": "Cg40uF3Kte2H"
      },
      "outputs": [],
      "source": [
        "# Desired Output:\n",
        "# [12, 5, 5, ' ', 17, 21, 1, 14, ' ', 25, 5, 23]"
      ]
    },
    {
      "cell_type": "code",
      "execution_count": null,
      "metadata": {
        "id": "9fk53d3pte2H",
        "outputId": "7f1a6fee-e2f3-4f9a-9fa9-556aeddf4192"
      },
      "outputs": [
        {
          "data": {
            "text/plain": [
              "[12, 5, 5, ' ', 17, 21, 1, 14, ' ', 25, 5, 23]"
            ]
          },
          "execution_count": 26,
          "metadata": {},
          "output_type": "execute_result"
        }
      ],
      "source": [
        "[ord(a.lower())-96 if a is not ' ' else ' ' for a in 'Lee Quan Yew']"
      ]
    },
    {
      "cell_type": "code",
      "execution_count": null,
      "metadata": {
        "id": "gQKRvzYTte2H",
        "outputId": "d1656daa-da6d-46c3-c45e-be55f75acc1e"
      },
      "outputs": [
        {
          "data": {
            "text/plain": [
              "[12, 5, 5, ' ', 17, 21, 1, 14, ' ', 25, 5, 23]"
            ]
          },
          "execution_count": 27,
          "metadata": {},
          "output_type": "execute_result"
        }
      ],
      "source": [
        "import string\n",
        "d = {a:i+1 for a,i in zip(string.ascii_lowercase, range(26))}\n",
        "[d.get(a.lower(), ' ') for a in 'Lee Quan Yew']"
      ]
    },
    {
      "cell_type": "markdown",
      "metadata": {
        "id": "Y7TJty88te2H"
      },
      "source": [
        "## Question 4: Get the unique list of words from the following sentences, excluding any stopwords.\n",
        "Hint: this is set comprehension"
      ]
    },
    {
      "cell_type": "code",
      "execution_count": null,
      "metadata": {
        "id": "YAdBF3Mtte2H"
      },
      "outputs": [],
      "source": [
        "# Input\n",
        "sentences = [\"The Hubble Space telescope has spotted\", \n",
        "             \"a formation of galaxies that resembles\", \n",
        "             \"a smiling face in the sky sky\"]\n",
        "\n",
        "stopwords = ['for', 'a', 'of', 'the', 'and', 'to', 'in', 'on', 'with']\n",
        "\n",
        "# Desired output:\n",
        "# {'face', 'telescope', 'formation', 'smiling', 'hubble', 'spotted', \n",
        "# 'resembles', 'has', 'sky', 'galaxies', 'that', 'space'}"
      ]
    },
    {
      "cell_type": "code",
      "execution_count": null,
      "metadata": {
        "id": "Iluvh9Lwte2I",
        "outputId": "d0889cc8-8cfb-44ed-ea98-05b719ed9fa8"
      },
      "outputs": [
        {
          "name": "stdout",
          "output_type": "stream",
          "text": [
            "{'galaxies', 'space', 'that', 'spotted', 'face', 'smiling', 'hubble', 'has', 'telescope', 'formation', 'resembles', 'sky'}\n"
          ]
        }
      ],
      "source": [
        "print({word for sentence in sentences for word in sentence.lower().split() if word not in stopwords})"
      ]
    },
    {
      "cell_type": "markdown",
      "metadata": {
        "id": "_OQh0eyfte2I"
      },
      "source": [
        "## Question 5: Tokenize the following sentences excluding all stopwords and punctuations."
      ]
    },
    {
      "cell_type": "code",
      "execution_count": null,
      "metadata": {
        "id": "PsSKdHDute2I"
      },
      "outputs": [],
      "source": [
        "# Input\n",
        "sentences = [\"The Hubble Space telescope has spotted\", \n",
        "             \"a formation of galaxies that resembles\", \n",
        "             \"a smiling face in the sky\", \n",
        "             \"The image taken with the Wide Field Camera\", \n",
        "             \"shows a patch of space filled with galaxies\", \n",
        "             \"of all shapes, colours and sizes\"]\n",
        "\n",
        "stopwords = ['for', 'a', 'of', 'the', 'and', 'to', 'in', 'on', 'with']\n",
        "\n",
        "# Desired Output\n",
        "# [['hubble', 'space', 'telescope', 'has', 'spotted'],\n",
        "#  ['formation', 'galaxies', 'that', 'resembles'],\n",
        "#  ['smiling', 'face', 'sky'],\n",
        "#  ['the', 'image', 'taken', 'wide', 'field', 'camera'],\n",
        "#  ['shows', 'patch', 'space', 'filled', 'galaxies'],\n",
        "#  ['all', 'shapes,', 'colours', 'sizes']]"
      ]
    },
    {
      "cell_type": "code",
      "execution_count": null,
      "metadata": {
        "id": "1aRf8aEPte2I",
        "outputId": "cc689410-7761-43a2-c4c2-e82991c1645e"
      },
      "outputs": [
        {
          "data": {
            "text/plain": [
              "[['hubble', 'space', 'telescope', 'has', 'spotted'],\n",
              " ['formation', 'galaxies', 'that', 'resembles'],\n",
              " ['smiling', 'face', 'sky'],\n",
              " ['image', 'taken', 'wide', 'field', 'camera'],\n",
              " ['shows', 'patch', 'space', 'filled', 'galaxies'],\n",
              " ['all', 'shapes,', 'colours', 'sizes']]"
            ]
          },
          "execution_count": 31,
          "metadata": {},
          "output_type": "execute_result"
        }
      ],
      "source": [
        "[[word for word in sentence.lower().split() if word not in stopwords] for sentence in sentences]"
      ]
    },
    {
      "cell_type": "markdown",
      "metadata": {
        "id": "yM7743W7te2I"
      },
      "source": [
        "## Question 6: Create a list of (word:id) pairs for all words in the following sentences, where id is the sentence index."
      ]
    },
    {
      "cell_type": "code",
      "execution_count": null,
      "metadata": {
        "id": "hDbiUIxLte2I"
      },
      "outputs": [],
      "source": [
        "# Input\n",
        "sentences = [\"The Hubble Space telescope has spotted\", \n",
        "             \"a formation of galaxies that resembles\", \n",
        "             \"a smiling face in the sky\"]\n",
        "\n",
        "# Desired output:\n",
        "# [('the', 0), ('hubble', 0), ('space', 0), ('telescope', 0), ('has', 0), ('spotted', 0),\n",
        "#  ('a', 1), ('formation', 1), ('of', 1), ('galaxies', 1), ('that', 1), ('resembles', 1),\n",
        "#  ('a', 2), ('smiling', 2), ('face', 2), ('in', 2), ('the', 2), ('sky', 2)]"
      ]
    },
    {
      "cell_type": "code",
      "execution_count": null,
      "metadata": {
        "id": "HDgVTU00te2I",
        "outputId": "3f6617f2-aa59-4149-c33a-29f58ac0c974"
      },
      "outputs": [
        {
          "name": "stdout",
          "output_type": "stream",
          "text": [
            "[('the', 0), ('hubble', 0), ('space', 0), ('telescope', 0), ('has', 0), ('spotted', 0), ('a', 1), ('formation', 1), ('of', 1), ('galaxies', 1), ('that', 1), ('resembles', 1), ('a', 2), ('smiling', 2), ('face', 2), ('in', 2), ('the', 2), ('sky', 2)]\n"
          ]
        }
      ],
      "source": [
        "print([(word, i) for i, sentence in enumerate(sentences) for word in sentence.lower().split()])"
      ]
    },
    {
      "cell_type": "markdown",
      "metadata": {
        "id": "sGSxL5icte2I"
      },
      "source": [
        "## Question 7: Print the inner positions of the 64 squares in a chess board, replacing the boundary squares with the string ‘—-‘."
      ]
    },
    {
      "cell_type": "code",
      "execution_count": null,
      "metadata": {
        "id": "JKaN7GVZte2J"
      },
      "outputs": [],
      "source": [
        "# Desired Output:\n",
        "# [['----', '----', '----', '----', '----', '----', '----', '----'],\n",
        "#  ['----', (1, 1), (2, 1), (3, 1), (4, 1), (5, 1), (6, 1), '----'],\n",
        "#  ['----', (1, 2), (2, 2), (3, 2), (4, 2), (5, 2), (6, 2), '----'],\n",
        "#  ['----', (1, 3), (2, 3), (3, 3), (4, 3), (5, 3), (6, 3), '----'],\n",
        "#  ['----', (1, 4), (2, 4), (3, 4), (4, 4), (5, 4), (6, 4), '----'],\n",
        "#  ['----', (1, 5), (2, 5), (3, 5), (4, 5), (5, 5), (6, 5), '----'],\n",
        "#  ['----', (1, 6), (2, 6), (3, 6), (4, 6), (5, 6), (6, 6), '----'],\n",
        "#  ['----', '----', '----', '----', '----', '----', '----', '----']]"
      ]
    },
    {
      "cell_type": "code",
      "execution_count": null,
      "metadata": {
        "id": "mOJhJ64ate2J",
        "outputId": "a72b8ca7-427d-4da7-cd1a-b52074004ea3"
      },
      "outputs": [
        {
          "data": {
            "text/plain": [
              "[['----', '----', '----', '----', '----', '----', '----', '----'],\n",
              " ['----', (1, 1), (2, 1), (3, 1), (4, 1), (5, 1), (6, 1), '----'],\n",
              " ['----', (1, 2), (2, 2), (3, 2), (4, 2), (5, 2), (6, 2), '----'],\n",
              " ['----', (1, 3), (2, 3), (3, 3), (4, 3), (5, 3), (6, 3), '----'],\n",
              " ['----', (1, 4), (2, 4), (3, 4), (4, 4), (5, 4), (6, 4), '----'],\n",
              " ['----', (1, 5), (2, 5), (3, 5), (4, 5), (5, 5), (6, 5), '----'],\n",
              " ['----', (1, 6), (2, 6), (3, 6), (4, 6), (5, 6), (6, 6), '----'],\n",
              " ['----', '----', '----', '----', '----', '----', '----', '----']]"
            ]
          },
          "execution_count": 35,
          "metadata": {},
          "output_type": "execute_result"
        }
      ],
      "source": [
        "[['----' if any([k == v for k in (i,j) for v in (0,7)]) else (i, j) for i in range(8)] for j in range(8)]"
      ]
    },
    {
      "cell_type": "code",
      "execution_count": null,
      "metadata": {
        "id": "7PA_NjSQte2J",
        "outputId": "abf0f571-14d3-4f67-bd7a-430d2013187f"
      },
      "outputs": [
        {
          "data": {
            "text/plain": [
              "[['----', (1, 0), (2, 0), (3, 0), (4, 0), (5, 0), (6, 0), '----'],\n",
              " ['----', '----', '----', '----', '----', '----', '----', '----'],\n",
              " ['----', '----', '----', '----', '----', '----', '----', '----'],\n",
              " ['----', '----', '----', '----', '----', '----', '----', '----'],\n",
              " ['----', '----', '----', '----', '----', '----', '----', '----'],\n",
              " ['----', '----', '----', '----', '----', '----', '----', '----'],\n",
              " ['----', '----', '----', '----', '----', '----', '----', '----'],\n",
              " ['----', (1, 7), (2, 7), (3, 7), (4, 7), (5, 7), (6, 7), '----']]"
            ]
          },
          "execution_count": 36,
          "metadata": {},
          "output_type": "execute_result"
        }
      ],
      "source": [
        "[[(i,j) if not(i in (0, 7) or j not in (0, 7)) else ('----') for i in range(8)] for j in range(8)]"
      ]
    },
    {
      "cell_type": "code",
      "execution_count": null,
      "metadata": {
        "id": "QoMSyHrHte2J"
      },
      "outputs": [],
      "source": []
    }
  ],
  "metadata": {
    "kernelspec": {
      "display_name": "Python 3",
      "language": "python",
      "name": "python3"
    },
    "language_info": {
      "codemirror_mode": {
        "name": "ipython",
        "version": 3
      },
      "file_extension": ".py",
      "mimetype": "text/x-python",
      "name": "python",
      "nbconvert_exporter": "python",
      "pygments_lexer": "ipython3",
      "version": "3.7.2"
    },
    "colab": {
      "provenance": [],
      "include_colab_link": true
    }
  },
  "nbformat": 4,
  "nbformat_minor": 0
}