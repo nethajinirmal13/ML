{
 "cells": [
  {
   "cell_type": "markdown",
   "metadata": {},
   "source": [
    "# Machine Learning with Python Workshop "
   ]
  },
  {
   "cell_type": "markdown",
   "metadata": {
    "heading_collapsed": true
   },
   "source": [
    "# Outline"
   ]
  },
  {
   "cell_type": "markdown",
   "metadata": {},
   "source": [
    "# [01 Intro](https://github.com/aymanibrahim/mlpy/blob/master/notebooks/01_Intro.ipynb)"
   ]
  },
  {
   "cell_type": "markdown",
   "metadata": {},
   "source": [
    "- [X] Applications of Machine Learning\n",
    "- [ ] Python libraries for Machine Learning\n",
    "- [ ] Supervised vs Unsupervised Learning"
   ]
  },
  {
   "cell_type": "markdown",
   "metadata": {
    "heading_collapsed": true
   },
   "source": [
    "## [02 Regression](https://github.com/aymanibrahim/mlpy/blob/master/notebooks/02_Regression.ipynb)"
   ]
  },
  {
   "cell_type": "markdown",
   "metadata": {
    "hidden": true
   },
   "source": [
    "- [ ] Linear Regression\n",
    "- [ ] Non-linear Regression\n",
    "- [ ] Model evaluation methods"
   ]
  },
  {
   "cell_type": "markdown",
   "metadata": {
    "heading_collapsed": true
   },
   "source": [
    "## [03 Classification](https://github.com/aymanibrahim/mlpy/blob/master/notebooks/03_Classification.ipynb)"
   ]
  },
  {
   "cell_type": "markdown",
   "metadata": {
    "hidden": true
   },
   "source": [
    "- [ ] K-Nearest Neighbour\n",
    "- [ ] Decision Trees\n",
    "- [ ] Logistic Regression\n",
    "- [ ] Support Vector Machines"
   ]
  },
  {
   "cell_type": "markdown",
   "metadata": {
    "heading_collapsed": true
   },
   "source": [
    "## [04 Clustering](https://github.com/aymanibrahim/mlpy/blob/master/notebooks/04_Clustering.ipynb)"
   ]
  },
  {
   "cell_type": "markdown",
   "metadata": {
    "hidden": true
   },
   "source": [
    "- [ ] K-Means Clustering\n",
    "- [ ] Hierarchical Clustering\n",
    "- [ ] Density-Based Clustering"
   ]
  },
  {
   "cell_type": "markdown",
   "metadata": {
    "heading_collapsed": true
   },
   "source": [
    "## [05 Recommender Systems](https://github.com/aymanibrahim/mlpy/blob/master/notebooks/05_Recommender.ipynb)"
   ]
  },
  {
   "cell_type": "markdown",
   "metadata": {
    "hidden": true
   },
   "source": [
    "- [ ] Content-based recommender systems\n",
    "- [ ] Collaborative Filtering"
   ]
  }
 ],
 "metadata": {
  "kernelspec": {
   "display_name": "Python 3",
   "language": "python",
   "name": "python3"
  },
  "language_info": {
   "codemirror_mode": {
    "name": "ipython",
    "version": 3
   },
   "file_extension": ".py",
   "mimetype": "text/x-python",
   "name": "python",
   "nbconvert_exporter": "python",
   "pygments_lexer": "ipython3",
   "version": "3.7.3"
  }
 },
 "nbformat": 4,
 "nbformat_minor": 4
}
